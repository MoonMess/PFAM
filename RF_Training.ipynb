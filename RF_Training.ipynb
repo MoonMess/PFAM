{
 "cells": [
  {
   "cell_type": "code",
   "execution_count": 1,
   "metadata": {},
   "outputs": [],
   "source": [
    "import numpy as np\n",
    "import pandas as pd"
   ]
  },
  {
   "cell_type": "markdown",
   "metadata": {},
   "source": [
    "We are loading previously pretrained data (run preprocess.py). This data are features generated using propythia and the target are already encoded. We can use the data directly. "
   ]
  },
  {
   "cell_type": "code",
   "execution_count": 3,
   "metadata": {},
   "outputs": [],
   "source": [
    "features = np.load(\"preprocessed_data/sample/propythia/features.npy\")\n",
    "target = pd.read_csv(\"preprocessed_data/sample/propythia/target.csv\")['label']\n",
    "features_test = np.load(\"preprocessed_data/sample/propythia/features_test.npy\")\n",
    "target_test = pd.read_csv(\"preprocessed_data/sample/propythia/target_test.csv\")['label']\n",
    "features_dev = np.load(\"preprocessed_data/sample/propythia/features_dev.npy\")\n",
    "target_dev = pd.read_csv(\"preprocessed_data/sample/propythia/target_dev.csv\")['label']"
   ]
  },
  {
   "cell_type": "code",
   "execution_count": 4,
   "metadata": {},
   "outputs": [
    {
     "data": {
      "text/plain": [
       "array([[-0.55540537,  0.223404  ,  0.12045413, ..., -0.66287066,\n",
       "        -0.63877204, -0.66287066],\n",
       "       [-0.67657282,  0.21905535,  0.11390438, ..., -0.43402574,\n",
       "        -0.49524235, -0.43402574],\n",
       "       [-0.71696197,  0.57455783,  0.66939584, ..., -0.7528068 ,\n",
       "        -0.66269366, -0.7528068 ],\n",
       "       ...,\n",
       "       [ 0.53510168, -1.79747775, -1.15869036, ...,  0.11304405,\n",
       "         0.52038312,  0.11304405],\n",
       "       [-0.09093014,  0.24934062,  0.1407883 , ...,  0.02302449,\n",
       "         0.01494254,  0.02302449],\n",
       "       [ 4.18022246,  1.99284035,  0.50618393, ...,  2.89705975,\n",
       "         3.04264164,  2.89705975]])"
      ]
     },
     "execution_count": 4,
     "metadata": {},
     "output_type": "execute_result"
    }
   ],
   "source": [
    "features"
   ]
  },
  {
   "cell_type": "code",
   "execution_count": 5,
   "metadata": {},
   "outputs": [
    {
     "data": {
      "text/plain": [
       "(124927, 33)"
      ]
     },
     "execution_count": 5,
     "metadata": {},
     "output_type": "execute_result"
    }
   ],
   "source": [
    "features.shape"
   ]
  },
  {
   "cell_type": "markdown",
   "metadata": {},
   "source": [
    "We have 33 features, we would reduce them up to 16, as I saw it in papers. For that we will use PCA. "
   ]
  },
  {
   "cell_type": "code",
   "execution_count": 6,
   "metadata": {},
   "outputs": [],
   "source": [
    "from sklearn.decomposition import PCA\n",
    "pca = PCA(n_components=16)\n",
    "features = pca.fit_transform(features)"
   ]
  },
  {
   "cell_type": "code",
   "execution_count": 7,
   "metadata": {},
   "outputs": [],
   "source": [
    "features_dev = pca.transform(features_dev)\n",
    "features_test = pca.transform(features_test)"
   ]
  },
  {
   "cell_type": "code",
   "execution_count": 8,
   "metadata": {},
   "outputs": [
    {
     "data": {
      "text/plain": [
       "(124927, 16)"
      ]
     },
     "execution_count": 8,
     "metadata": {},
     "output_type": "execute_result"
    }
   ],
   "source": [
    "features.shape"
   ]
  },
  {
   "cell_type": "markdown",
   "metadata": {},
   "source": [
    "For choosing the parameters, we can perform a random grid search using the validation data. However I tried, and it does not wok in our case. so we will just run the Random forest with default parameters, just to have a model. "
   ]
  },
  {
   "cell_type": "code",
   "execution_count": 9,
   "metadata": {},
   "outputs": [
    {
     "name": "stdout",
     "output_type": "stream",
     "text": [
      "{'n_estimators': [100, 325, 550, 775, 1000], 'max_features': ['auto', 'sqrt'], 'max_depth': [1, 10, 20, 30, 40, 50, 60, 70, 80, 90, 100, None], 'min_samples_split': [2, 5, 10], 'min_samples_leaf': [1, 2, 4], 'bootstrap': [True, False]}\n"
     ]
    }
   ],
   "source": [
    "from sklearn.model_selection import RandomizedSearchCV# Number of trees in random forest\n",
    "n_estimators = [int(x) for x in np.linspace(start = 100, stop = 1000, num = 5)]\n",
    "# Number of features to consider at every split\n",
    "max_features = ['auto', 'sqrt']\n",
    "# Maximum number of levels in tree\n",
    "max_depth = [int(x) for x in np.linspace(1, 100, num = 11)]\n",
    "max_depth.append(None)\n",
    "# Minimum number of samples required to split a node\n",
    "min_samples_split = [2, 5, 10]\n",
    "# Minimum number of samples required at each leaf node\n",
    "min_samples_leaf = [1, 2, 4]\n",
    "# Method of selecting samples for training each tree\n",
    "bootstrap = [True, False]# Create the random grid\n",
    "random_grid = {'n_estimators': n_estimators,\n",
    "               'max_features': max_features,\n",
    "               'max_depth': max_depth,\n",
    "               'min_samples_split': min_samples_split,\n",
    "               'min_samples_leaf': min_samples_leaf,\n",
    "               'bootstrap': bootstrap}\n",
    "print(random_grid)"
   ]
  },
  {
   "cell_type": "code",
   "execution_count": null,
   "metadata": {},
   "outputs": [],
   "source": [
    "from sklearn.ensemble import RandomForestRegressor\n",
    "# Use the random grid to search for best hyperparameters\n",
    "# First create the base model to tune\n",
    "rf = RandomForestRegressor()\n",
    "# Random search of parameters, using 3 fold cross validation,\n",
    "# search across 100 different combinations, and use all available cores\n",
    "rf_random = RandomizedSearchCV(estimator = rf, param_distributions = random_grid, n_iter = 100, cv = 3, verbose=2, random_state=42, n_jobs = -1)# Fit the random search model\n",
    "rf_random.fit(features_dev, target_dev)"
   ]
  },
  {
   "cell_type": "code",
   "execution_count": 11,
   "metadata": {},
   "outputs": [
    {
     "data": {
      "text/html": [
       "<style>#sk-container-id-1 {color: black;}#sk-container-id-1 pre{padding: 0;}#sk-container-id-1 div.sk-toggleable {background-color: white;}#sk-container-id-1 label.sk-toggleable__label {cursor: pointer;display: block;width: 100%;margin-bottom: 0;padding: 0.3em;box-sizing: border-box;text-align: center;}#sk-container-id-1 label.sk-toggleable__label-arrow:before {content: \"▸\";float: left;margin-right: 0.25em;color: #696969;}#sk-container-id-1 label.sk-toggleable__label-arrow:hover:before {color: black;}#sk-container-id-1 div.sk-estimator:hover label.sk-toggleable__label-arrow:before {color: black;}#sk-container-id-1 div.sk-toggleable__content {max-height: 0;max-width: 0;overflow: hidden;text-align: left;background-color: #f0f8ff;}#sk-container-id-1 div.sk-toggleable__content pre {margin: 0.2em;color: black;border-radius: 0.25em;background-color: #f0f8ff;}#sk-container-id-1 input.sk-toggleable__control:checked~div.sk-toggleable__content {max-height: 200px;max-width: 100%;overflow: auto;}#sk-container-id-1 input.sk-toggleable__control:checked~label.sk-toggleable__label-arrow:before {content: \"▾\";}#sk-container-id-1 div.sk-estimator input.sk-toggleable__control:checked~label.sk-toggleable__label {background-color: #d4ebff;}#sk-container-id-1 div.sk-label input.sk-toggleable__control:checked~label.sk-toggleable__label {background-color: #d4ebff;}#sk-container-id-1 input.sk-hidden--visually {border: 0;clip: rect(1px 1px 1px 1px);clip: rect(1px, 1px, 1px, 1px);height: 1px;margin: -1px;overflow: hidden;padding: 0;position: absolute;width: 1px;}#sk-container-id-1 div.sk-estimator {font-family: monospace;background-color: #f0f8ff;border: 1px dotted black;border-radius: 0.25em;box-sizing: border-box;margin-bottom: 0.5em;}#sk-container-id-1 div.sk-estimator:hover {background-color: #d4ebff;}#sk-container-id-1 div.sk-parallel-item::after {content: \"\";width: 100%;border-bottom: 1px solid gray;flex-grow: 1;}#sk-container-id-1 div.sk-label:hover label.sk-toggleable__label {background-color: #d4ebff;}#sk-container-id-1 div.sk-serial::before {content: \"\";position: absolute;border-left: 1px solid gray;box-sizing: border-box;top: 0;bottom: 0;left: 50%;z-index: 0;}#sk-container-id-1 div.sk-serial {display: flex;flex-direction: column;align-items: center;background-color: white;padding-right: 0.2em;padding-left: 0.2em;position: relative;}#sk-container-id-1 div.sk-item {position: relative;z-index: 1;}#sk-container-id-1 div.sk-parallel {display: flex;align-items: stretch;justify-content: center;background-color: white;position: relative;}#sk-container-id-1 div.sk-item::before, #sk-container-id-1 div.sk-parallel-item::before {content: \"\";position: absolute;border-left: 1px solid gray;box-sizing: border-box;top: 0;bottom: 0;left: 50%;z-index: -1;}#sk-container-id-1 div.sk-parallel-item {display: flex;flex-direction: column;z-index: 1;position: relative;background-color: white;}#sk-container-id-1 div.sk-parallel-item:first-child::after {align-self: flex-end;width: 50%;}#sk-container-id-1 div.sk-parallel-item:last-child::after {align-self: flex-start;width: 50%;}#sk-container-id-1 div.sk-parallel-item:only-child::after {width: 0;}#sk-container-id-1 div.sk-dashed-wrapped {border: 1px dashed gray;margin: 0 0.4em 0.5em 0.4em;box-sizing: border-box;padding-bottom: 0.4em;background-color: white;}#sk-container-id-1 div.sk-label label {font-family: monospace;font-weight: bold;display: inline-block;line-height: 1.2em;}#sk-container-id-1 div.sk-label-container {text-align: center;}#sk-container-id-1 div.sk-container {/* jupyter's `normalize.less` sets `[hidden] { display: none; }` but bootstrap.min.css set `[hidden] { display: none !important; }` so we also need the `!important` here to be able to override the default hidden behavior on the sphinx rendered scikit-learn.org. See: https://github.com/scikit-learn/scikit-learn/issues/21755 */display: inline-block !important;position: relative;}#sk-container-id-1 div.sk-text-repr-fallback {display: none;}</style><div id=\"sk-container-id-1\" class=\"sk-top-container\"><div class=\"sk-text-repr-fallback\"><pre>RandomForestRegressor()</pre><b>In a Jupyter environment, please rerun this cell to show the HTML representation or trust the notebook. <br />On GitHub, the HTML representation is unable to render, please try loading this page with nbviewer.org.</b></div><div class=\"sk-container\" hidden><div class=\"sk-item\"><div class=\"sk-estimator sk-toggleable\"><input class=\"sk-toggleable__control sk-hidden--visually\" id=\"sk-estimator-id-1\" type=\"checkbox\" checked><label for=\"sk-estimator-id-1\" class=\"sk-toggleable__label sk-toggleable__label-arrow\">RandomForestRegressor</label><div class=\"sk-toggleable__content\"><pre>RandomForestRegressor()</pre></div></div></div></div></div>"
      ],
      "text/plain": [
       "RandomForestRegressor()"
      ]
     },
     "execution_count": 11,
     "metadata": {},
     "output_type": "execute_result"
    }
   ],
   "source": [
    "from sklearn.ensemble import RandomForestRegressor\n",
    "rf = RandomForestRegressor()\n",
    "rf.fit(features, target)"
   ]
  },
  {
   "cell_type": "code",
   "execution_count": 14,
   "metadata": {},
   "outputs": [],
   "source": [
    "test_pred = rf.predict(features_test)"
   ]
  },
  {
   "cell_type": "code",
   "execution_count": 20,
   "metadata": {},
   "outputs": [],
   "source": [
    "test_pred = [round(pred) for pred in test_pred]"
   ]
  },
  {
   "cell_type": "code",
   "execution_count": 23,
   "metadata": {},
   "outputs": [
    {
     "name": "stdout",
     "output_type": "stream",
     "text": [
      "test-acc = 0.02252094972067039\n"
     ]
    }
   ],
   "source": [
    "from sklearn.metrics import accuracy_score\n",
    "print(\"test-acc = \" + str(accuracy_score(target_test, test_pred)))"
   ]
  },
  {
   "cell_type": "code",
   "execution_count": 22,
   "metadata": {},
   "outputs": [
    {
     "name": "stdout",
     "output_type": "stream",
     "text": [
      "              precision    recall  f1-score   support\n",
      "\n",
      "           0       1.00      0.16      0.27        77\n",
      "           1       0.00      0.00      0.00        84\n",
      "           2       0.00      0.00      0.00       106\n",
      "           3       0.98      0.62      0.76        69\n",
      "           4       0.09      0.01      0.03        69\n",
      "           5       0.00      0.00      0.00       133\n",
      "           6       0.25      0.02      0.03       107\n",
      "           7       0.00      0.00      0.00        91\n",
      "           8       0.00      0.00      0.00       102\n",
      "           9       0.00      0.00      0.00        85\n",
      "          10       0.00      0.00      0.00        72\n",
      "          11       0.17      0.01      0.02        83\n",
      "          12       0.00      0.00      0.00        77\n",
      "          13       0.00      0.00      0.00        74\n",
      "          14       0.00      0.00      0.00        87\n",
      "          15       0.00      0.00      0.00        68\n",
      "          16       0.42      0.12      0.19        91\n",
      "          17       0.00      0.00      0.00        78\n",
      "          18       0.00      0.00      0.00        84\n",
      "          19       0.00      0.00      0.00        94\n",
      "          20       0.23      0.12      0.16        74\n",
      "          21       0.00      0.00      0.00       110\n",
      "          22       0.00      0.00      0.00       143\n",
      "          23       0.00      0.00      0.00       146\n",
      "          24       0.00      0.00      0.00       105\n",
      "          25       0.27      0.09      0.13        82\n",
      "          26       0.00      0.00      0.00        68\n",
      "          27       0.07      0.03      0.04        76\n",
      "          28       0.00      0.00      0.00       240\n",
      "          29       0.00      0.00      0.00        84\n",
      "          30       0.00      0.00      0.00        84\n",
      "          31       0.00      0.00      0.00       128\n",
      "          32       0.00      0.00      0.00        70\n",
      "          33       0.00      0.00      0.00       187\n",
      "          34       0.60      0.43      0.50       151\n",
      "          35       0.30      0.21      0.25        75\n",
      "          36       0.00      0.00      0.00        70\n",
      "          37       0.31      0.20      0.24        75\n",
      "          38       0.00      0.00      0.00        93\n",
      "          39       0.00      0.00      0.00       138\n",
      "          40       0.06      0.03      0.04        76\n",
      "          41       0.00      0.00      0.00        85\n",
      "          42       0.00      0.00      0.00       107\n",
      "          43       0.00      0.00      0.00        74\n",
      "          44       0.03      0.01      0.02        78\n",
      "          45       0.00      0.00      0.00        71\n",
      "          46       0.02      0.01      0.02        71\n",
      "          47       0.06      0.05      0.06        73\n",
      "          48       0.00      0.00      0.00        81\n",
      "          49       0.50      0.43      0.46        91\n",
      "          50       0.00      0.00      0.00        69\n",
      "          51       0.02      0.01      0.02        77\n",
      "          52       0.00      0.00      0.00        67\n",
      "          53       0.00      0.00      0.00        73\n",
      "          54       0.06      0.04      0.05        76\n",
      "          55       0.02      0.01      0.01       168\n",
      "          56       0.08      0.04      0.05       101\n",
      "          57       0.00      0.00      0.00        68\n",
      "          58       0.00      0.00      0.00        74\n",
      "          59       0.08      0.06      0.07        78\n",
      "          60       0.00      0.00      0.00        99\n",
      "          61       0.02      0.01      0.01        86\n",
      "          62       0.07      0.05      0.06        85\n",
      "          63       0.00      0.00      0.00        82\n",
      "          64       0.08      0.05      0.06        81\n",
      "          65       0.00      0.00      0.00        73\n",
      "          66       0.00      0.00      0.00       104\n",
      "          67       0.02      0.01      0.02        68\n",
      "          68       0.00      0.00      0.00        84\n",
      "          69       0.00      0.00      0.00        73\n",
      "          70       0.02      0.01      0.01        81\n",
      "          71       0.00      0.00      0.00        88\n",
      "          72       0.02      0.01      0.01        84\n",
      "          73       0.00      0.00      0.00       138\n",
      "          74       0.00      0.00      0.00        67\n",
      "          75       0.00      0.00      0.00        78\n",
      "          76       0.00      0.00      0.00       100\n",
      "          77       0.00      0.00      0.00        96\n",
      "          78       0.00      0.00      0.00        76\n",
      "          79       0.00      0.00      0.00        91\n",
      "          80       0.00      0.00      0.00        97\n",
      "          81       0.00      0.00      0.00        93\n",
      "          82       0.00      0.00      0.00       131\n",
      "          83       0.02      0.03      0.02        77\n",
      "          84       0.05      0.05      0.05        93\n",
      "          85       0.01      0.01      0.01        74\n",
      "          86       0.00      0.00      0.00        77\n",
      "          87       0.01      0.01      0.01        97\n",
      "          88       0.01      0.01      0.01       127\n",
      "          89       0.07      0.07      0.07       117\n",
      "          90       0.06      0.10      0.08        71\n",
      "          91       0.01      0.01      0.01        71\n",
      "          92       0.00      0.00      0.00        73\n",
      "          93       0.02      0.03      0.02        95\n",
      "          94       0.11      0.18      0.13        76\n",
      "          95       0.01      0.01      0.01       119\n",
      "          96       0.00      0.00      0.00        85\n",
      "          97       0.01      0.01      0.01        67\n",
      "          98       0.01      0.01      0.01       123\n",
      "          99       0.02      0.02      0.02       127\n",
      "         100       0.00      0.00      0.00        95\n",
      "         101       0.03      0.05      0.03       103\n",
      "         102       0.00      0.00      0.00       128\n",
      "         103       0.02      0.04      0.03        74\n",
      "         104       0.00      0.00      0.00        80\n",
      "         105       0.00      0.00      0.00        94\n",
      "         106       0.00      0.00      0.00        70\n",
      "         107       0.00      0.00      0.00        67\n",
      "         108       0.01      0.01      0.01        86\n",
      "         109       0.00      0.00      0.00        73\n",
      "         110       0.01      0.03      0.02        75\n",
      "         111       0.03      0.08      0.04        76\n",
      "         112       0.00      0.00      0.00        94\n",
      "         113       0.01      0.01      0.01        88\n",
      "         114       0.02      0.04      0.03        91\n",
      "         115       0.00      0.01      0.01        93\n",
      "         116       0.03      0.09      0.04        69\n",
      "         117       0.01      0.04      0.02        81\n",
      "         118       0.01      0.03      0.01        80\n",
      "         119       0.06      0.07      0.06       190\n",
      "         120       0.02      0.05      0.03        75\n",
      "         121       0.03      0.08      0.04        72\n",
      "         122       0.00      0.01      0.01        95\n",
      "         123       0.03      0.04      0.04       157\n",
      "         124       0.01      0.04      0.02        82\n",
      "         125       0.00      0.00      0.00        93\n",
      "         126       0.00      0.01      0.01        88\n",
      "         127       0.00      0.01      0.01        71\n",
      "         128       0.02      0.06      0.03        78\n",
      "         129       0.03      0.09      0.05        94\n",
      "         130       0.00      0.01      0.01        73\n",
      "         131       0.00      0.01      0.01       132\n",
      "         132       0.00      0.01      0.01        74\n",
      "         133       0.01      0.01      0.01        74\n",
      "         134       0.00      0.00      0.00        94\n",
      "         135       0.00      0.01      0.01        77\n",
      "         136       0.00      0.01      0.01        74\n",
      "         137       0.02      0.05      0.03        79\n",
      "         138       0.00      0.00      0.00        70\n",
      "         139       0.01      0.02      0.01        99\n",
      "         140       0.01      0.04      0.02        70\n",
      "         141       0.00      0.01      0.01        70\n",
      "         142       0.00      0.00      0.00        75\n",
      "         143       0.01      0.02      0.01        86\n",
      "         144       0.00      0.01      0.01        95\n",
      "         145       0.01      0.03      0.01        75\n",
      "         146       0.00      0.00      0.00        88\n",
      "         147       0.00      0.00      0.00       100\n",
      "         148       0.00      0.00      0.00        86\n",
      "         149       0.00      0.01      0.01        80\n",
      "         150       0.04      0.05      0.04       146\n",
      "         151       0.02      0.03      0.02        88\n",
      "         152       0.01      0.01      0.01        79\n",
      "         153       0.01      0.02      0.01        86\n",
      "         154       0.03      0.07      0.05        97\n",
      "         155       0.03      0.06      0.04       108\n",
      "         156       0.01      0.01      0.01        96\n",
      "         157       0.01      0.03      0.02       112\n",
      "         158       0.00      0.00      0.00       100\n",
      "         159       0.01      0.01      0.01        96\n",
      "         160       0.01      0.01      0.01       148\n",
      "         161       0.01      0.01      0.01       142\n",
      "         162       0.01      0.01      0.01        72\n",
      "         163       0.02      0.05      0.03        73\n",
      "         164       0.00      0.00      0.00        88\n",
      "         165       0.03      0.05      0.04        91\n",
      "         166       0.01      0.01      0.01       130\n",
      "         167       0.00      0.00      0.00       104\n",
      "         168       0.02      0.03      0.02       108\n",
      "         169       0.01      0.02      0.02       126\n",
      "         170       0.00      0.00      0.00        68\n",
      "         171       0.01      0.03      0.02        73\n",
      "         172       0.00      0.00      0.00        77\n",
      "         173       0.03      0.06      0.04        71\n",
      "         174       0.00      0.00      0.00        73\n",
      "         175       0.00      0.00      0.00        76\n",
      "         176       0.00      0.00      0.00        73\n",
      "         177       0.00      0.00      0.00       101\n",
      "         178       0.00      0.00      0.00        77\n",
      "         179       0.01      0.01      0.01        72\n",
      "         180       0.01      0.01      0.01        97\n",
      "         181       0.01      0.01      0.01        71\n",
      "         182       0.01      0.01      0.01        69\n",
      "         183       0.00      0.00      0.00        73\n",
      "         184       0.00      0.00      0.00        97\n",
      "         185       0.01      0.01      0.01       101\n",
      "         186       0.00      0.00      0.00        86\n",
      "         187       0.00      0.00      0.00        70\n",
      "         188       0.00      0.00      0.00        67\n",
      "         189       0.00      0.00      0.00       124\n",
      "         190       0.01      0.01      0.01        87\n",
      "         191       0.03      0.02      0.03        86\n",
      "         192       0.00      0.00      0.00        97\n",
      "         193       0.00      0.00      0.00        70\n",
      "         194       0.04      0.01      0.02       192\n",
      "         195       0.00      0.00      0.00        81\n",
      "         196       0.00      0.00      0.00        92\n",
      "         197       0.00      0.00      0.00        92\n",
      "         198       0.00      0.00      0.00        90\n",
      "         199       0.03      0.01      0.02        71\n",
      "         200       0.00      0.00      0.00        71\n",
      "         201       0.00      0.00      0.00        82\n",
      "         202       0.23      0.10      0.14        88\n",
      "         203       0.00      0.00      0.00        68\n",
      "         204       0.00      0.00      0.00       107\n",
      "         205       0.00      0.00      0.00        68\n",
      "         206       0.00      0.00      0.00        78\n",
      "         207       0.00      0.00      0.00       103\n",
      "         208       0.05      0.01      0.02        81\n",
      "         209       0.00      0.00      0.00        73\n",
      "         210       0.00      0.00      0.00        71\n",
      "         211       0.00      0.00      0.00        74\n",
      "         212       0.00      0.00      0.00        85\n",
      "         213       0.00      0.00      0.00        78\n",
      "         214       0.00      0.00      0.00        73\n",
      "         215       0.00      0.00      0.00        77\n",
      "         216       0.00      0.00      0.00        68\n",
      "         217       0.12      0.03      0.04        73\n",
      "         218       0.00      0.00      0.00        67\n",
      "         219       0.00      0.00      0.00        88\n",
      "         220       0.00      0.00      0.00        71\n",
      "         221       0.33      0.05      0.09        75\n",
      "         222       0.00      0.00      0.00       105\n",
      "         223       0.00      0.00      0.00       156\n",
      "         224       0.00      0.00      0.00       219\n",
      "         225       0.22      0.05      0.08        77\n",
      "         226       0.00      0.00      0.00        91\n",
      "         227       0.00      0.00      0.00        70\n",
      "         228       0.00      0.00      0.00       454\n",
      "         229       0.00      0.00      0.00       108\n",
      "         230       0.00      0.00      0.00        78\n",
      "         231       0.00      0.00      0.00        99\n",
      "         232       0.00      0.00      0.00       102\n",
      "         233       0.00      0.00      0.00       103\n",
      "         234       0.00      0.00      0.00        72\n",
      "         235       0.00      0.00      0.00        72\n",
      "         236       0.00      0.00      0.00        72\n",
      "         237       0.00      0.00      0.00        67\n",
      "         238       0.00      0.00      0.00       105\n",
      "         239       0.00      0.00      0.00        81\n",
      "         240       0.00      0.00      0.00        79\n",
      "         241       0.00      0.00      0.00        80\n",
      "         242       0.94      0.19      0.32        84\n",
      "         243       0.00      0.00      0.00        77\n",
      "         244       0.00      0.00      0.00        89\n",
      "         245       0.00      0.00      0.00        83\n",
      "         246       0.00      0.00      0.00        90\n",
      "         247       0.00      0.00      0.00        74\n",
      "         248       0.00      0.00      0.00        72\n",
      "         249       0.00      0.00      0.00        75\n",
      "\n",
      "    accuracy                           0.02     22912\n",
      "   macro avg       0.04      0.02      0.02     22912\n",
      "weighted avg       0.03      0.02      0.02     22912\n",
      "\n"
     ]
    },
    {
     "name": "stderr",
     "output_type": "stream",
     "text": [
      "d:\\Programs\\Conda\\envs\\PFAM\\lib\\site-packages\\sklearn\\metrics\\_classification.py:1471: UndefinedMetricWarning: Precision and F-score are ill-defined and being set to 0.0 in labels with no predicted samples. Use `zero_division` parameter to control this behavior.\n",
      "  _warn_prf(average, modifier, msg_start, len(result))\n",
      "d:\\Programs\\Conda\\envs\\PFAM\\lib\\site-packages\\sklearn\\metrics\\_classification.py:1471: UndefinedMetricWarning: Precision and F-score are ill-defined and being set to 0.0 in labels with no predicted samples. Use `zero_division` parameter to control this behavior.\n",
      "  _warn_prf(average, modifier, msg_start, len(result))\n",
      "d:\\Programs\\Conda\\envs\\PFAM\\lib\\site-packages\\sklearn\\metrics\\_classification.py:1471: UndefinedMetricWarning: Precision and F-score are ill-defined and being set to 0.0 in labels with no predicted samples. Use `zero_division` parameter to control this behavior.\n",
      "  _warn_prf(average, modifier, msg_start, len(result))\n"
     ]
    }
   ],
   "source": [
    "from sklearn.metrics import classification_report\n",
    "print(classification_report(target_test, test_pred))"
   ]
  },
  {
   "cell_type": "markdown",
   "metadata": {},
   "source": [
    "The results shown a poorly performing random forest. This could be besause of the training without fine tuning, or because the random forest is returning float and not integer (and may be the round was not a good idea so). The final assumption could be checked using a confusion matrix of class : "
   ]
  },
  {
   "cell_type": "code",
   "execution_count": 25,
   "metadata": {},
   "outputs": [
    {
     "data": {
      "image/png": "[encoded data removed]",
      "text/plain": [
       "<Figure size 1000x1000 with 2 Axes>"
      ]
     },
     "metadata": {},
     "output_type": "display_data"
    }
   ],
   "source": [
    "import matplotlib.pyplot as plt\n",
    "from sklearn.metrics import confusion_matrix\n",
    "\n",
    "# Compute confusion matrix\n",
    "cm = confusion_matrix(target_test, test_pred)\n",
    "\n",
    "# Plot normalized confusion matrix\n",
    "cm = cm.astype('float') / cm.sum(axis=1)[:, np.newaxis]\n",
    "np.set_printoptions(precision=2)\n",
    "plt.figure(figsize=(10,10))\n",
    "plt.imshow(cm, interpolation='nearest', cmap=plt.cm.Blues)\n",
    "plt.title('Confusion matrix')\n",
    "plt.colorbar()\n",
    "#tick_marks = np.arange(len(lb.classes_))\n",
    "#plt.xticks(tick_marks, lb.classes_, rotation=90)\n",
    "#plt.yticks(tick_marks, lb.classes_)\n",
    "#for i, j in itertools.product(range(cm.shape[0]), range(cm.shape[1])):\n",
    "#    plt.text(j, i, format(cm[i, j], '.2f'), horizontalalignment=\"center\", color=\"white\" if cm[i, j] > cm.max() / 2. else \"black\")\n",
    "plt.ylabel('True label')\n",
    "plt.xlabel('Predicted label')\n",
    "plt.show()\n"
   ]
  },
  {
   "cell_type": "markdown",
   "metadata": {},
   "source": [
    "We can see correlation around the truth, but not totally. So I guess the result are close, but the training was not efficient. There is something to dig here, we defenitely could do better than that, but I am runing out of time, and I cannot perform more runs. "
   ]
  }
 ],
 "metadata": {
  "kernelspec": {
   "display_name": "PFAM",
   "language": "python",
   "name": "python3"
  },
  "language_info": {
   "codemirror_mode": {
    "name": "ipython",
    "version": 3
   },
   "file_extension": ".py",
   "mimetype": "text/x-python",
   "name": "python",
   "nbconvert_exporter": "python",
   "pygments_lexer": "ipython3",
   "version": "3.9.18"
  }
 },
 "nbformat": 4,
 "nbformat_minor": 2
}
